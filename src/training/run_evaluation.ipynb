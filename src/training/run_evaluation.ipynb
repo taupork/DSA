{
 "cells": [
  {
   "cell_type": "code",
   "execution_count": null,
   "id": "40f4a2cd",
   "metadata": {
    "vscode": {
     "languageId": "plaintext"
    }
   },
   "outputs": [],
   "source": [
    "loaded_results = run_ssl_pipeline_kfold_with_r2(\n",
    "    labeled_df=df,\n",
    "    load_run_dir=\"/content/drive/MyDrive/DSA_Comp/ssl_models/ssl_740\",\n",
    "    fine_tune_epochs = 25\n",
    ")"
   ]
  }
 ],
 "metadata": {
  "language_info": {
   "name": "python"
  }
 },
 "nbformat": 4,
 "nbformat_minor": 5
}
